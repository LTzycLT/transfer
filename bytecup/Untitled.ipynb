{
 "cells": [
  {
   "cell_type": "code",
   "execution_count": 31,
   "metadata": {},
   "outputs": [],
   "source": [
    "import json\n",
    "data = []\n",
    "with open(\"data/bytecup.corpus.train.0.txt\") as f:\n",
    "    for line in f:\n",
    "        data.append(json.loads(line))"
   ]
  },
  {
   "cell_type": "code",
   "execution_count": 32,
   "metadata": {},
   "outputs": [],
   "source": [
    "import nltk"
   ]
  },
  {
   "cell_type": "code",
   "execution_count": 33,
   "metadata": {},
   "outputs": [],
   "source": [
    "s_tokenizer = nltk.RegexpTokenizer('[\\w\\' ]+')\n",
    "w_tokenizer = nltk.RegexpTokenizer('[\\w\\']+')"
   ]
  },
  {
   "cell_type": "code",
   "execution_count": 34,
   "metadata": {},
   "outputs": [
    {
     "name": "stdout",
     "output_type": "stream",
     "text": [
      "0\n",
      "10000\n",
      "20000\n",
      "30000\n",
      "40000\n",
      "50000\n",
      "60000\n",
      "70000\n",
      "80000\n",
      "90000\n",
      "100000\n",
      "110000\n",
      "120000\n",
      "130000\n",
      "140000\n"
     ]
    }
   ],
   "source": [
    "for cnt, d in enumerate(data):\n",
    "    if cnt % 10000 == 0:\n",
    "        print(cnt)\n",
    "    d['sents'] = s_tokenizer.tokenize(d['content'])"
   ]
  },
  {
   "cell_type": "code",
   "execution_count": 35,
   "metadata": {},
   "outputs": [],
   "source": [
    "def LCS(x, y):\n",
    "    dp = [[0 for _ in y] for _ in x]\n",
    "    for i in range(len(x)):\n",
    "        for j in range(len(y)):\n",
    "            if i > 0:\n",
    "                dp[i][j] =  max(dp[i][j], dp[i - 1][j])\n",
    "            if j > 0:\n",
    "                dp[i][j] = max(dp[i][j], dp[i][j - 1])\n",
    "            if x[i] == y[j]:\n",
    "                if i > 0 and j > 0: dp[i][j] = max(dp[i][j], dp[i - 1][j - 1] + 1)\n",
    "                else: dp[i][j] = 1   \n",
    "    maxx = 0\n",
    "    for i in range(len(x)):\n",
    "        for j in range(len(y)):\n",
    "            maxx = max(maxx, dp[i][j])\n",
    "    return maxx\n",
    "\n",
    "def rouge(x, y):\n",
    "    global lx, ly\n",
    "    lx += len(x)\n",
    "    ly += len(y)\n",
    "    lcs = LCS(x, y)\n",
    "    if lcs == 0: return 0\n",
    "    recall = lcs * 1.0 / len(y)\n",
    "    precision = lcs * 1.0 / len(x)\n",
    "    beta = precision / (recall + 1e-12)\n",
    "    return (1 + beta * beta) * recall * precision / (recall + beta * beta * precision)"
   ]
  },
  {
   "cell_type": "code",
   "execution_count": 36,
   "metadata": {},
   "outputs": [],
   "source": [
    "s, c = 0, 0\n",
    "lx = 0\n",
    "ly = 0\n",
    "for d in data[3000:4000]:\n",
    "    maxx = 0\n",
    "    y = w_tokenizer.tokenize(d['title'])\n",
    "    for sent in d['sents']:\n",
    "        x = w_tokenizer.tokenize(sent)\n",
    "        maxx = max(maxx, rouge(x, y))\n",
    "    s += maxx\n",
    "    c += 1"
   ]
  },
  {
   "cell_type": "code",
   "execution_count": 37,
   "metadata": {},
   "outputs": [
    {
     "data": {
      "text/plain": [
       "u'Well, kind of.If you know me, you know that I obsess over how I can get ahead in my career. Whether it was starting to program in 6th grade so I could get an internship in high school or it\\u2019s building a startup in college so I don\\u2019t have to wait until I graduate to have a job, I\\u2019m always looking for new ways to hustle.Within the past couple of years, I\\u2019ve been fascinated with venture capital \\u2014 anything from angel investing, to Softbank\\u2019s billion-dollar rounds. Last year, I started cold-emailing VCs and messaging them on Twitter, asking to shadow them for the summer. Basically, I wanted to sit in on meetings, be a fly on the wall, that kind of thing. Some messages were met with responses like:\\u201cHey Justin! Thanks for reaching out. Your background is impressive and you seem passionate, but unfortunately we don\\u2019t have an intern program. Keep in touch.\\u201dOthers yielded a response like this:Despite being discouraged, I continued to stay interested. I started following more investors on Twitter, reading their posts on Medium. Then, Jason Calacanis came out with his book, Angel. I read the book from cover to cover, learning valuable lessons about how to go about investing, syndicates, things like pro rata rights, and tips on how to get started.After reading all 288 pages of Jason\\u2019s book, I was inspired and ready to get started. While I don\\u2019t currently have the resources to invest, I decided to try my luck and start \\u201cmock investing.\\u201d Here are the basics.Apply to join a syndicate. Whether it\\u2019s joining AngelList, or applying to be a part of Jason\\u2019s, you need to find a source of deal flow. I applied for Jason\\u2019s.Set aside $25,000 in Monopoly money. You\\u2019ll invest this in 10 startups over the next five or six months. You can set aside more if you\\u2019re feeling ambitious.Create a spreadsheet. Include columns like name, tagline, website, founders, and amount invested.Write a memo about why you invested, or why you passed. Include things like impressions of the founders, how you like the prototype, what you believe their chances of success are, etc\\u2026 You\\u2019ll look back at these later.If possible, figure out how much your lead has invested, and what percentage your investment makes up of the whole.Keep up with investor reports, follow the company\\u2019s progress, and track your investment performance over the next year. Look back at your memo every couple months or so and see how close you were. Take notes of things you\\u2019re noticing.This can be a great talking point in an interview, and a great tool to test your luck with investing. Like Jason says, it\\u2019s all about the work. You get out what you put in.As part of this, I\\u2019ll be making my spreadsheet and deal memos public (coming soon), to A) hold myself accountable, and B) hopefully provide some value to my followers. I\\u2019m looking forward to launching my \\u201ccareer\\u201d in \\u201cinvesting\\u201d and can\\u2019t wait to be a part of the action. In the meantime, if you or someone you know is looking to hire a summer intern at in venture capital, I\\u2019d love to grab coffee!DM me on Twitter, or shoot me an email at justin at justinpotts dot co.Happy investing! #DoTheWork.Purchase a copy of Angel in hardcover, e-book, or audiobook here.'"
      ]
     },
     "execution_count": 37,
     "metadata": {},
     "output_type": "execute_result"
    }
   ],
   "source": [
    "d['content']"
   ]
  },
  {
   "cell_type": "code",
   "execution_count": 38,
   "metadata": {},
   "outputs": [
    {
     "data": {
      "text/plain": [
       "u'I\\u2019m an angel investor'"
      ]
     },
     "execution_count": 38,
     "metadata": {},
     "output_type": "execute_result"
    }
   ],
   "source": [
    "d['title']"
   ]
  },
  {
   "cell_type": "code",
   "execution_count": 71,
   "metadata": {},
   "outputs": [],
   "source": [
    "from __future__ import print_function\n",
    "with open('data/bytecup.corpus.validation_set.txt') as f:\n",
    "    for line in f:\n",
    "        obj = json.loads(line)\n",
    "        content = obj['content']\n",
    "        with open('data/result/%s.txt' % obj['id'], 'w') as fout:\n",
    "            print(s_tokenizer.tokenize(content)[0].encode('utf8'), file=fout)"
   ]
  }
 ],
 "metadata": {
  "kernelspec": {
   "display_name": "Python 2",
   "language": "python",
   "name": "python2"
  },
  "language_info": {
   "codemirror_mode": {
    "name": "ipython",
    "version": 2
   },
   "file_extension": ".py",
   "mimetype": "text/x-python",
   "name": "python",
   "nbconvert_exporter": "python",
   "pygments_lexer": "ipython2",
   "version": "2.7.15"
  }
 },
 "nbformat": 4,
 "nbformat_minor": 2
}
